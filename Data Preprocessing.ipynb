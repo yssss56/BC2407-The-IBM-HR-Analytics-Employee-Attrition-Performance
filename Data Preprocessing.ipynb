{
 "cells": [
  {
   "cell_type": "code",
   "execution_count": 2,
   "metadata": {},
   "outputs": [],
   "source": [
    "# Import essential libraries\n",
    "import pandas as pd\n",
    "import numpy as np\n",
    "import matplotlib.pyplot as plt\n",
    "import seaborn as sns"
   ]
  },
  {
   "cell_type": "code",
   "execution_count": 3,
   "metadata": {},
   "outputs": [],
   "source": [
    "# Load data\n",
    "df = pd.read_csv(\"EmployeeAttrition.csv\")"
   ]
  },
  {
   "cell_type": "code",
   "execution_count": 4,
   "metadata": {},
   "outputs": [],
   "source": [
    "# Drop the 'Over18' and 'EmployeeNumber' columns\n",
    "df.drop('EmployeeNumber', axis=1, inplace=True)\n",
    "df.drop('Over18', axis=1, inplace=True)"
   ]
  },
  {
   "cell_type": "code",
   "execution_count": 5,
   "metadata": {},
   "outputs": [],
   "source": [
    "from sklearn.preprocessing import OrdinalEncoder\n",
    "# Label categorical data\n",
    "\n",
    "# Nominal variables\n",
    "df['Attrition'] = df['Attrition'].astype('category')\n",
    "df['Department'] = df['Department'].astype('category')\n",
    "df['EducationField'] = df['EducationField'].astype('category')\n",
    "df['Gender'] = df['Gender'].astype('category')\n",
    "df['JobRole'] = df['JobRole'].astype('category')\n",
    "df['MaritalStatus'] = df['MaritalStatus'].astype('category')\n",
    "df['OverTime'] = df['OverTime'].astype('category')\n",
    "\n",
    "# Convert string to numeric\n",
    "df[['BusinessTravel']] = OrdinalEncoder(categories=[['Non-Travel', 'Travel_Rarely', 'Travel_Frequently']]).fit_transform(df[['BusinessTravel']])\n",
    "\n",
    "# Ordinal variables\n",
    "df['BusinessTravel'] = df['BusinessTravel'].astype(pd.CategoricalDtype(categories=[0, 1, 2], ordered=True))\n",
    "df['Education'] = df['Education'].astype(pd.CategoricalDtype(categories=[1, 2, 3, 4, 5], ordered=True))\n",
    "df['EnvironmentSatisfaction'] = df['EnvironmentSatisfaction'].astype(pd.CategoricalDtype(categories=[1, 2, 3, 4], ordered=True))\n",
    "df['JobInvolvement'] = df['JobInvolvement'].astype(pd.CategoricalDtype(categories=[1, 2, 3, 4], ordered=True))\n",
    "df['JobLevel'] = df['JobLevel'].astype(pd.CategoricalDtype(categories=[1, 2, 3, 4, 5], ordered=True))\n",
    "df['JobSatisfaction'] = df['JobSatisfaction'].astype(pd.CategoricalDtype(categories=[1, 2, 3, 4], ordered=True))\n",
    "df['PerformanceRating'] = df['PerformanceRating'].astype(pd.CategoricalDtype(categories=[1, 2, 3, 4], ordered=True))\n",
    "df['RelationshipSatisfaction'] = df['RelationshipSatisfaction'].astype(pd.CategoricalDtype(categories=[1, 2, 3, 4], ordered=True))\n",
    "df['StockOptionLevel'] = df['StockOptionLevel'].astype(pd.CategoricalDtype(categories=[0, 1, 2, 3], ordered=True))\n",
    "df['WorkLifeBalance'] = df['WorkLifeBalance'].astype(pd.CategoricalDtype(categories=[1, 2, 3, 4], ordered=True))"
   ]
  },
  {
   "cell_type": "code",
   "execution_count": 6,
   "metadata": {},
   "outputs": [
    {
     "name": "stdout",
     "output_type": "stream",
     "text": [
      "<class 'pandas.core.frame.DataFrame'>\n",
      "RangeIndex: 1470 entries, 0 to 1469\n",
      "Data columns (total 33 columns):\n",
      " #   Column                    Non-Null Count  Dtype   \n",
      "---  ------                    --------------  -----   \n",
      " 0   Age                       1470 non-null   int64   \n",
      " 1   Attrition                 1470 non-null   category\n",
      " 2   BusinessTravel            1470 non-null   category\n",
      " 3   DailyRate                 1470 non-null   int64   \n",
      " 4   Department                1470 non-null   category\n",
      " 5   DistanceFromHome          1470 non-null   int64   \n",
      " 6   Education                 1470 non-null   category\n",
      " 7   EducationField            1470 non-null   category\n",
      " 8   EmployeeCount             1470 non-null   int64   \n",
      " 9   EnvironmentSatisfaction   1470 non-null   category\n",
      " 10  Gender                    1470 non-null   category\n",
      " 11  HourlyRate                1470 non-null   int64   \n",
      " 12  JobInvolvement            1470 non-null   category\n",
      " 13  JobLevel                  1470 non-null   category\n",
      " 14  JobRole                   1470 non-null   category\n",
      " 15  JobSatisfaction           1470 non-null   category\n",
      " 16  MaritalStatus             1470 non-null   category\n",
      " 17  MonthlyIncome             1470 non-null   int64   \n",
      " 18  MonthlyRate               1470 non-null   int64   \n",
      " 19  NumCompaniesWorked        1470 non-null   int64   \n",
      " 20  OverTime                  1470 non-null   category\n",
      " 21  PercentSalaryHike         1470 non-null   int64   \n",
      " 22  PerformanceRating         1470 non-null   category\n",
      " 23  RelationshipSatisfaction  1470 non-null   category\n",
      " 24  StandardHours             1470 non-null   int64   \n",
      " 25  StockOptionLevel          1470 non-null   category\n",
      " 26  TotalWorkingYears         1470 non-null   int64   \n",
      " 27  TrainingTimesLastYear     1470 non-null   int64   \n",
      " 28  WorkLifeBalance           1470 non-null   category\n",
      " 29  YearsAtCompany            1470 non-null   int64   \n",
      " 30  YearsInCurrentRole        1470 non-null   int64   \n",
      " 31  YearsSinceLastPromotion   1470 non-null   int64   \n",
      " 32  YearsWithCurrManager      1470 non-null   int64   \n",
      "dtypes: category(17), int64(16)\n",
      "memory usage: 211.4 KB\n"
     ]
    }
   ],
   "source": [
    "df.info()"
   ]
  },
  {
   "cell_type": "markdown",
   "metadata": {},
   "source": [
    "### Save to new csv - Data Cleaning"
   ]
  },
  {
   "cell_type": "code",
   "execution_count": 7,
   "metadata": {},
   "outputs": [],
   "source": [
    "df.to_csv('IBMdataCleaning.csv')"
   ]
  },
  {
   "cell_type": "code",
   "execution_count": null,
   "metadata": {},
   "outputs": [],
   "source": []
  },
  {
   "cell_type": "code",
   "execution_count": 7,
   "metadata": {},
   "outputs": [],
   "source": [
    "df = pd.get_dummies(df, columns=['Attrition', 'Department', 'EducationField', 'Gender', 'JobRole', 'MaritalStatus', 'OverTime', ], drop_first=True) "
   ]
  },
  {
   "cell_type": "code",
   "execution_count": 8,
   "metadata": {},
   "outputs": [
    {
     "name": "stdout",
     "output_type": "stream",
     "text": [
      "<class 'pandas.core.frame.DataFrame'>\n",
      "RangeIndex: 1470 entries, 0 to 1469\n",
      "Data columns (total 46 columns):\n",
      " #   Column                             Non-Null Count  Dtype   \n",
      "---  ------                             --------------  -----   \n",
      " 0   Age                                1470 non-null   int64   \n",
      " 1   BusinessTravel                     1470 non-null   category\n",
      " 2   DailyRate                          1470 non-null   int64   \n",
      " 3   DistanceFromHome                   1470 non-null   int64   \n",
      " 4   Education                          1470 non-null   category\n",
      " 5   EmployeeCount                      1470 non-null   int64   \n",
      " 6   EnvironmentSatisfaction            1470 non-null   category\n",
      " 7   HourlyRate                         1470 non-null   int64   \n",
      " 8   JobInvolvement                     1470 non-null   category\n",
      " 9   JobLevel                           1470 non-null   category\n",
      " 10  JobSatisfaction                    1470 non-null   category\n",
      " 11  MonthlyIncome                      1470 non-null   int64   \n",
      " 12  MonthlyRate                        1470 non-null   int64   \n",
      " 13  NumCompaniesWorked                 1470 non-null   int64   \n",
      " 14  PercentSalaryHike                  1470 non-null   int64   \n",
      " 15  PerformanceRating                  1470 non-null   category\n",
      " 16  RelationshipSatisfaction           1470 non-null   category\n",
      " 17  StandardHours                      1470 non-null   int64   \n",
      " 18  StockOptionLevel                   1470 non-null   category\n",
      " 19  TotalWorkingYears                  1470 non-null   int64   \n",
      " 20  TrainingTimesLastYear              1470 non-null   int64   \n",
      " 21  WorkLifeBalance                    1470 non-null   category\n",
      " 22  YearsAtCompany                     1470 non-null   int64   \n",
      " 23  YearsInCurrentRole                 1470 non-null   int64   \n",
      " 24  YearsSinceLastPromotion            1470 non-null   int64   \n",
      " 25  YearsWithCurrManager               1470 non-null   int64   \n",
      " 26  Attrition_Yes                      1470 non-null   bool    \n",
      " 27  Department_Research & Development  1470 non-null   bool    \n",
      " 28  Department_Sales                   1470 non-null   bool    \n",
      " 29  EducationField_Life Sciences       1470 non-null   bool    \n",
      " 30  EducationField_Marketing           1470 non-null   bool    \n",
      " 31  EducationField_Medical             1470 non-null   bool    \n",
      " 32  EducationField_Other               1470 non-null   bool    \n",
      " 33  EducationField_Technical Degree    1470 non-null   bool    \n",
      " 34  Gender_Male                        1470 non-null   bool    \n",
      " 35  JobRole_Human Resources            1470 non-null   bool    \n",
      " 36  JobRole_Laboratory Technician      1470 non-null   bool    \n",
      " 37  JobRole_Manager                    1470 non-null   bool    \n",
      " 38  JobRole_Manufacturing Director     1470 non-null   bool    \n",
      " 39  JobRole_Research Director          1470 non-null   bool    \n",
      " 40  JobRole_Research Scientist         1470 non-null   bool    \n",
      " 41  JobRole_Sales Executive            1470 non-null   bool    \n",
      " 42  JobRole_Sales Representative       1470 non-null   bool    \n",
      " 43  MaritalStatus_Married              1470 non-null   bool    \n",
      " 44  MaritalStatus_Single               1470 non-null   bool    \n",
      " 45  OverTime_Yes                       1470 non-null   bool    \n",
      "dtypes: bool(20), category(10), int64(16)\n",
      "memory usage: 228.9 KB\n"
     ]
    }
   ],
   "source": [
    "df.info()"
   ]
  },
  {
   "cell_type": "code",
   "execution_count": 9,
   "metadata": {},
   "outputs": [],
   "source": []
  },
  {
   "cell_type": "code",
   "execution_count": 11,
   "metadata": {},
   "outputs": [],
   "source": [
    "from sklearn.model_selection import train_test_split\n",
    "from sklearn.preprocessing import StandardScaler\n",
    "\n",
    "X = df.drop('Attrition_Yes', axis=1)\n",
    "y = df['Attrition_Yes']\n",
    "\n",
    "# Split the data into training and testing sets\n",
    "X_train, X_test, y_train, y_test = train_test_split(X, y, test_size=0.2, random_state=2407, shuffle=True)\n",
    "\n",
    "# Standardize the features\n",
    "scaler = StandardScaler()\n",
    "X_train = scaler.fit_transform(X_train)\n",
    "X_test = scaler.transform(X_test)"
   ]
  },
  {
   "cell_type": "code",
   "execution_count": null,
   "metadata": {},
   "outputs": [],
   "source": [
    "# From here, you should have 4 variables to use to train/test your model\n",
    "# X_train\n",
    "# y_train\n",
    "# X_test\n",
    "# y_test"
   ]
  },
  {
   "cell_type": "code",
   "execution_count": 12,
   "metadata": {},
   "outputs": [],
   "source": [
    "from imblearn.over_sampling import SMOTE\n",
    "oversampler = SMOTE(random_state=2407)\n",
    "X_smote_train, y_smote_train = oversampler.fit_resample(X_train, y_train)"
   ]
  },
  {
   "cell_type": "code",
   "execution_count": 13,
   "metadata": {},
   "outputs": [],
   "source": [
    "from imblearn.over_sampling import ADASYN\n",
    "oversampler = ADASYN(random_state=2407)\n",
    "X_adasyn_train, y_adasyn_train = oversampler.fit_resample(X_train, y_train)"
   ]
  },
  {
   "cell_type": "code",
   "execution_count": null,
   "metadata": {},
   "outputs": [],
   "source": [
    "# If you're using SMOTE, you should have 4 variables to use to train/test your model\n",
    "# X_smote_train\n",
    "# y_smote_train\n",
    "# X_test\n",
    "# y_test\n",
    "\n",
    "# If you're using ADASYN, you should have 4 variables to use to train/test your model\n",
    "# X_adasyn_train\n",
    "# y_adasyn_train\n",
    "# X_test\n",
    "# y_test"
   ]
  }
 ],
 "metadata": {
  "kernelspec": {
   "display_name": "Python 3",
   "language": "python",
   "name": "python3"
  },
  "language_info": {
   "codemirror_mode": {
    "name": "ipython",
    "version": 3
   },
   "file_extension": ".py",
   "mimetype": "text/x-python",
   "name": "python",
   "nbconvert_exporter": "python",
   "pygments_lexer": "ipython3",
   "version": "3.11.5"
  }
 },
 "nbformat": 4,
 "nbformat_minor": 2
}
